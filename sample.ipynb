{
 "cells": [
  {
   "cell_type": "code",
   "execution_count": null,
   "metadata": {},
   "outputs": [],
   "source": [
    "print(\"Hello world\")\n",
    "print(\"Change from jpyter brach\")"
   ]
  },
  {
   "cell_type": "markdown",
   "metadata": {},
   "source": [
    "$ git checkout master -- change branch\n",
    "$ git pull --rebase origin master\n",
    "$ git checkout jupyter-notebooks\n",
    "$ git branch"
   ]
  },
  {
   "cell_type": "code",
   "execution_count": null,
   "metadata": {},
   "outputs": [],
   "source": [
    "#!/bin/python3\n",
    "\n",
    "import math\n",
    "import os\n",
    "import random\n",
    "import re\n",
    "import sys\n",
    "import numpy as np\n",
    "\n",
    "#\n",
    "# Complete the 'simpleArraySum' function below.\n",
    "#\n",
    "# The function is expected to return an INTEGER.\n",
    "# The function accepts INTEGER_ARRAY ar as parameter.\n",
    "#\n",
    "\n",
    "def simpleArraySum(list1):\n",
    "    # Write your code here\n",
    "    #creating a variable to store sum\n",
    "    summ=0\n",
    "    #iterating over ar to add all items \n",
    "    for ele in list1:\n",
    "        summ+=ele\n",
    "    #returning the fnal sum to print\n",
    "    print (summ)\n",
    "if __name__ == '__main__':\n",
    "    #fptr = open(os.environ['OUTPUT_PATH'], 'w')\n",
    "#get count of number of inputs\n",
    "    ar_count = int(input().strip())\n",
    "#using rstrip() and split , split() get multiple values and store as a list\n",
    "    list1 = list(map(int, input().rstrip().split()))\n",
    "    #ar=np.array(list1)\n",
    "#calling solution method\n",
    "    result = simpleArraySum(list1)\n",
    "\n",
    "    #fptr.write(str(result) + '\\n')\n",
    "    \n",
    "    #fptr.close()\n"
   ]
  }
 ],
 "metadata": {
  "kernelspec": {
   "display_name": "Python 3.9.13 64-bit (microsoft store)",
   "language": "python",
   "name": "python3"
  },
  "language_info": {
   "name": "python",
   "version": "3.9.13"
  },
  "orig_nbformat": 4,
  "vscode": {
   "interpreter": {
    "hash": "231b793e72510f63263cf75731d759da8776d8c74c3ed2dbefa0f0827e58fa6e"
   }
  }
 },
 "nbformat": 4,
 "nbformat_minor": 2
}
